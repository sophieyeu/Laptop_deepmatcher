{
 "cells": [
  {
   "cell_type": "code",
   "execution_count": 1,
   "metadata": {
    "scrolled": false
   },
   "outputs": [
    {
     "name": "stderr",
     "output_type": "stream",
     "text": [
      "\n",
      "Reading and processing data from \"data/Laptop_deepmatch_traindata.csv\"\n",
      "0% [###########                   ] 100% | ETA: 00:00:01\n",
      "Reading and processing data from \"data/Laptop_deepmatch_validation_data.csv\"\n",
      "0% [########################      ] 100% | ETA: 00:00:00\n",
      "Reading and processing data from \"data/Laptop_deepmatch_testdata.csv\"\n",
      "0% [##                            ] 100% | ETA: 00:00:01\n",
      "Building vocabulary\n",
      "0% [#] 100% | ETA: 00:00:00\n",
      "Total time elapsed: 00:00:00\n",
      "\n",
      "Computing principal components\n",
      "0% [#] 100% | ETA: 00:00:00\n",
      "Total time elapsed: 00:00:07\n"
     ]
    }
   ],
   "source": [
    "import deepmatcher as dm\n",
    "train, validation, test = dm.data.process(path='data', train='Laptop_deepmatch_traindata.csv', \n",
    "                 validation='Laptop_deepmatch_validation_data.csv', test='Laptop_deepmatch_testdata.csv')"
   ]
  },
  {
   "cell_type": "code",
   "execution_count": 2,
   "metadata": {},
   "outputs": [],
   "source": [
    "model = dm.MatchingModel()"
   ]
  },
  {
   "cell_type": "code",
   "execution_count": 3,
   "metadata": {
    "scrolled": false
   },
   "outputs": [
    {
     "name": "stdout",
     "output_type": "stream",
     "text": [
      "* Number of trainable parameters: 11286907\n",
      "===>  TRAIN Epoch 1\n"
     ]
    },
    {
     "name": "stderr",
     "output_type": "stream",
     "text": [
      "0% [██████] 100% | ETA: 00:00:00\n",
      "Total time elapsed: 00:03:15\n"
     ]
    },
    {
     "name": "stdout",
     "output_type": "stream",
     "text": [
      "Finished Epoch 1 || Run Time:  238.6 | Load Time:    0.4 || F1:  58.36 | Prec:  56.68 | Rec:  60.15 || Ex/s:   2.19\n",
      "\n",
      "===>  EVAL Epoch 1\n",
      "Finished Epoch 1 || Run Time:    4.1 | Load Time:    0.0 || F1:  62.86 | Prec:  68.75 | Rec:  57.89 || Ex/s:  12.17\n",
      "\n",
      "* Best F1: 62.857142857142854\n",
      "Saving best model...\n",
      "Done.\n",
      "---------------------\n",
      "\n",
      "===>  TRAIN Epoch 2\n"
     ]
    },
    {
     "name": "stderr",
     "output_type": "stream",
     "text": [
      "0% [██████] 100% | ETA: 00:00:00\n",
      "Total time elapsed: 00:03:01\n"
     ]
    },
    {
     "name": "stdout",
     "output_type": "stream",
     "text": [
      "Finished Epoch 2 || Run Time:  214.7 | Load Time:    0.3 || F1:  82.33 | Prec:  83.46 | Rec:  81.23 || Ex/s:   2.43\n",
      "\n",
      "===>  EVAL Epoch 2\n",
      "Finished Epoch 2 || Run Time:    4.0 | Load Time:    0.0 || F1:  83.72 | Prec:  75.00 | Rec:  94.74 || Ex/s:  12.36\n",
      "\n",
      "* Best F1: 83.72093023255813\n",
      "Saving best model...\n",
      "Done.\n",
      "---------------------\n",
      "\n",
      "===>  TRAIN Epoch 3\n"
     ]
    },
    {
     "name": "stderr",
     "output_type": "stream",
     "text": [
      "0% [██████] 100% | ETA: 00:00:00\n",
      "Total time elapsed: 00:03:03\n"
     ]
    },
    {
     "name": "stdout",
     "output_type": "stream",
     "text": [
      "Finished Epoch 3 || Run Time:  219.9 | Load Time:    0.4 || F1:  91.43 | Prec:  90.91 | Rec:  91.95 || Ex/s:   2.37\n",
      "\n",
      "===>  EVAL Epoch 3\n",
      "Finished Epoch 3 || Run Time:    4.0 | Load Time:    0.0 || F1:  82.05 | Prec:  80.00 | Rec:  84.21 || Ex/s:  12.34\n",
      "\n",
      "---------------------\n",
      "\n",
      "===>  TRAIN Epoch 4\n"
     ]
    },
    {
     "name": "stderr",
     "output_type": "stream",
     "text": [
      "0% [██████] 100% | ETA: 00:00:00\n",
      "Total time elapsed: 00:03:08\n"
     ]
    },
    {
     "name": "stdout",
     "output_type": "stream",
     "text": [
      "Finished Epoch 4 || Run Time:  224.9 | Load Time:    0.4 || F1:  94.76 | Prec:  96.06 | Rec:  93.49 || Ex/s:   2.32\n",
      "\n",
      "===>  EVAL Epoch 4\n",
      "Finished Epoch 4 || Run Time:    4.0 | Load Time:    0.0 || F1:  82.05 | Prec:  80.00 | Rec:  84.21 || Ex/s:  12.38\n",
      "\n",
      "---------------------\n",
      "\n",
      "===>  TRAIN Epoch 5\n"
     ]
    },
    {
     "name": "stderr",
     "output_type": "stream",
     "text": [
      "0% [██████] 100% | ETA: 00:00:00\n",
      "Total time elapsed: 00:03:02\n"
     ]
    },
    {
     "name": "stdout",
     "output_type": "stream",
     "text": [
      "Finished Epoch 5 || Run Time:  215.6 | Load Time:    0.4 || F1:  97.15 | Prec:  96.24 | Rec:  98.08 || Ex/s:   2.42\n",
      "\n",
      "===>  EVAL Epoch 5\n",
      "Finished Epoch 5 || Run Time:    4.0 | Load Time:    0.0 || F1:  87.80 | Prec:  81.82 | Rec:  94.74 || Ex/s:  12.28\n",
      "\n",
      "* Best F1: 87.80487804878048\n",
      "Saving best model...\n",
      "Done.\n",
      "---------------------\n",
      "\n",
      "===>  TRAIN Epoch 6\n"
     ]
    },
    {
     "name": "stderr",
     "output_type": "stream",
     "text": [
      "0% [██████] 100% | ETA: 00:00:00\n",
      "Total time elapsed: 00:03:06\n"
     ]
    },
    {
     "name": "stdout",
     "output_type": "stream",
     "text": [
      "Finished Epoch 6 || Run Time:  220.9 | Load Time:    0.4 || F1:  98.08 | Prec:  98.08 | Rec:  98.08 || Ex/s:   2.36\n",
      "\n",
      "===>  EVAL Epoch 6\n",
      "Finished Epoch 6 || Run Time:    4.0 | Load Time:    0.0 || F1:  84.21 | Prec:  84.21 | Rec:  84.21 || Ex/s:  12.49\n",
      "\n",
      "---------------------\n",
      "\n",
      "===>  TRAIN Epoch 7\n"
     ]
    },
    {
     "name": "stderr",
     "output_type": "stream",
     "text": [
      "0% [██████] 100% | ETA: 00:00:00\n",
      "Total time elapsed: 00:03:05\n"
     ]
    },
    {
     "name": "stdout",
     "output_type": "stream",
     "text": [
      "Finished Epoch 7 || Run Time:  218.9 | Load Time:    0.4 || F1:  98.85 | Prec:  98.85 | Rec:  98.85 || Ex/s:   2.39\n",
      "\n",
      "===>  EVAL Epoch 7\n",
      "Finished Epoch 7 || Run Time:    4.0 | Load Time:    0.0 || F1:  87.18 | Prec:  85.00 | Rec:  89.47 || Ex/s:  12.42\n",
      "\n",
      "---------------------\n",
      "\n",
      "===>  TRAIN Epoch 8\n"
     ]
    },
    {
     "name": "stderr",
     "output_type": "stream",
     "text": [
      "0% [██████] 100% | ETA: 00:00:00\n",
      "Total time elapsed: 00:03:05\n"
     ]
    },
    {
     "name": "stdout",
     "output_type": "stream",
     "text": [
      "Finished Epoch 8 || Run Time:  219.8 | Load Time:    0.4 || F1:  99.62 | Prec:  99.62 | Rec:  99.62 || Ex/s:   2.37\n",
      "\n",
      "===>  EVAL Epoch 8\n",
      "Finished Epoch 8 || Run Time:    4.0 | Load Time:    0.0 || F1:  87.18 | Prec:  85.00 | Rec:  89.47 || Ex/s:  12.34\n",
      "\n",
      "---------------------\n",
      "\n",
      "===>  TRAIN Epoch 9\n"
     ]
    },
    {
     "name": "stderr",
     "output_type": "stream",
     "text": [
      "0% [██████] 100% | ETA: 00:00:00\n",
      "Total time elapsed: 00:03:06\n"
     ]
    },
    {
     "name": "stdout",
     "output_type": "stream",
     "text": [
      "Finished Epoch 9 || Run Time:  218.7 | Load Time:    0.4 || F1:  99.81 | Prec: 100.00 | Rec:  99.62 || Ex/s:   2.39\n",
      "\n",
      "===>  EVAL Epoch 9\n",
      "Finished Epoch 9 || Run Time:    4.0 | Load Time:    0.0 || F1:  87.18 | Prec:  85.00 | Rec:  89.47 || Ex/s:  12.46\n",
      "\n",
      "---------------------\n",
      "\n",
      "===>  TRAIN Epoch 10\n"
     ]
    },
    {
     "name": "stderr",
     "output_type": "stream",
     "text": [
      "0% [██████] 100% | ETA: 00:00:00\n",
      "Total time elapsed: 00:03:05\n"
     ]
    },
    {
     "name": "stdout",
     "output_type": "stream",
     "text": [
      "Finished Epoch 10 || Run Time:  218.6 | Load Time:    0.4 || F1:  99.81 | Prec: 100.00 | Rec:  99.62 || Ex/s:   2.39\n",
      "\n",
      "===>  EVAL Epoch 10\n",
      "Finished Epoch 10 || Run Time:    4.0 | Load Time:    0.0 || F1:  87.18 | Prec:  85.00 | Rec:  89.47 || Ex/s:  12.46\n",
      "\n",
      "---------------------\n",
      "\n",
      "===>  TRAIN Epoch 11\n"
     ]
    },
    {
     "name": "stderr",
     "output_type": "stream",
     "text": [
      "0% [██████] 100% | ETA: 00:00:00\n",
      "Total time elapsed: 00:03:04\n"
     ]
    },
    {
     "name": "stdout",
     "output_type": "stream",
     "text": [
      "Finished Epoch 11 || Run Time:  219.9 | Load Time:    0.4 || F1: 100.00 | Prec: 100.00 | Rec: 100.00 || Ex/s:   2.37\n",
      "\n",
      "===>  EVAL Epoch 11\n",
      "Finished Epoch 11 || Run Time:    4.0 | Load Time:    0.0 || F1:  90.00 | Prec:  85.71 | Rec:  94.74 || Ex/s:  12.45\n",
      "\n",
      "* Best F1: 90.0\n",
      "Saving best model...\n",
      "Done.\n",
      "---------------------\n",
      "\n",
      "===>  TRAIN Epoch 12\n"
     ]
    },
    {
     "name": "stderr",
     "output_type": "stream",
     "text": [
      "0% [██████] 100% | ETA: 00:00:00\n",
      "Total time elapsed: 00:03:03\n"
     ]
    },
    {
     "name": "stdout",
     "output_type": "stream",
     "text": [
      "Finished Epoch 12 || Run Time:  217.1 | Load Time:    0.3 || F1: 100.00 | Prec: 100.00 | Rec: 100.00 || Ex/s:   2.41\n",
      "\n",
      "===>  EVAL Epoch 12\n",
      "Finished Epoch 12 || Run Time:    4.0 | Load Time:    0.0 || F1:  90.00 | Prec:  85.71 | Rec:  94.74 || Ex/s:  12.52\n",
      "\n",
      "---------------------\n",
      "\n",
      "===>  TRAIN Epoch 13\n"
     ]
    },
    {
     "name": "stderr",
     "output_type": "stream",
     "text": [
      "0% [██████] 100% | ETA: 00:00:00\n",
      "Total time elapsed: 00:03:06\n"
     ]
    },
    {
     "name": "stdout",
     "output_type": "stream",
     "text": [
      "Finished Epoch 13 || Run Time:  218.4 | Load Time:    0.4 || F1: 100.00 | Prec: 100.00 | Rec: 100.00 || Ex/s:   2.39\n",
      "\n",
      "===>  EVAL Epoch 13\n",
      "Finished Epoch 13 || Run Time:    4.0 | Load Time:    0.0 || F1:  92.31 | Prec:  90.00 | Rec:  94.74 || Ex/s:  12.42\n",
      "\n",
      "* Best F1: 92.3076923076923\n",
      "Saving best model...\n",
      "Done.\n",
      "---------------------\n",
      "\n",
      "===>  TRAIN Epoch 14\n"
     ]
    },
    {
     "name": "stderr",
     "output_type": "stream",
     "text": [
      "0% [██████] 100% | ETA: 00:00:00\n",
      "Total time elapsed: 00:03:06\n"
     ]
    },
    {
     "name": "stdout",
     "output_type": "stream",
     "text": [
      "Finished Epoch 14 || Run Time:  218.9 | Load Time:    0.4 || F1: 100.00 | Prec: 100.00 | Rec: 100.00 || Ex/s:   2.39\n",
      "\n",
      "===>  EVAL Epoch 14\n",
      "Finished Epoch 14 || Run Time:    4.0 | Load Time:    0.0 || F1:  92.31 | Prec:  90.00 | Rec:  94.74 || Ex/s:  12.26\n",
      "\n",
      "---------------------\n",
      "\n",
      "===>  TRAIN Epoch 15\n"
     ]
    },
    {
     "name": "stderr",
     "output_type": "stream",
     "text": [
      "0% [██████] 100% | ETA: 00:00:00\n",
      "Total time elapsed: 00:03:12\n"
     ]
    },
    {
     "name": "stdout",
     "output_type": "stream",
     "text": [
      "Finished Epoch 15 || Run Time:  226.2 | Load Time:    0.4 || F1: 100.00 | Prec: 100.00 | Rec: 100.00 || Ex/s:   2.31\n",
      "\n",
      "===>  EVAL Epoch 15\n",
      "Finished Epoch 15 || Run Time:    4.0 | Load Time:    0.0 || F1:  92.31 | Prec:  90.00 | Rec:  94.74 || Ex/s:  12.54\n",
      "\n",
      "---------------------\n",
      "\n",
      "===>  TRAIN Epoch 16\n"
     ]
    },
    {
     "name": "stderr",
     "output_type": "stream",
     "text": [
      "0% [██████] 100% | ETA: 00:00:00\n",
      "Total time elapsed: 00:03:05\n"
     ]
    },
    {
     "name": "stdout",
     "output_type": "stream",
     "text": [
      "Finished Epoch 16 || Run Time:  218.5 | Load Time:    0.4 || F1: 100.00 | Prec: 100.00 | Rec: 100.00 || Ex/s:   2.39\n",
      "\n",
      "===>  EVAL Epoch 16\n",
      "Finished Epoch 16 || Run Time:    4.0 | Load Time:    0.0 || F1:  92.31 | Prec:  90.00 | Rec:  94.74 || Ex/s:  12.48\n",
      "\n",
      "---------------------\n",
      "\n",
      "===>  TRAIN Epoch 17\n"
     ]
    },
    {
     "name": "stderr",
     "output_type": "stream",
     "text": [
      "0% [██████] 100% | ETA: 00:00:00\n",
      "Total time elapsed: 00:03:04\n"
     ]
    },
    {
     "name": "stdout",
     "output_type": "stream",
     "text": [
      "Finished Epoch 17 || Run Time:  218.6 | Load Time:    0.4 || F1: 100.00 | Prec: 100.00 | Rec: 100.00 || Ex/s:   2.39\n",
      "\n",
      "===>  EVAL Epoch 17\n",
      "Finished Epoch 17 || Run Time:    4.0 | Load Time:    0.0 || F1:  92.31 | Prec:  90.00 | Rec:  94.74 || Ex/s:  12.43\n",
      "\n",
      "---------------------\n",
      "\n",
      "===>  TRAIN Epoch 18\n"
     ]
    },
    {
     "name": "stderr",
     "output_type": "stream",
     "text": [
      "0% [██████] 100% | ETA: 00:00:00\n",
      "Total time elapsed: 00:03:05\n"
     ]
    },
    {
     "name": "stdout",
     "output_type": "stream",
     "text": [
      "Finished Epoch 18 || Run Time:  218.5 | Load Time:    0.3 || F1: 100.00 | Prec: 100.00 | Rec: 100.00 || Ex/s:   2.39\n",
      "\n",
      "===>  EVAL Epoch 18\n",
      "Finished Epoch 18 || Run Time:    4.0 | Load Time:    0.0 || F1:  92.31 | Prec:  90.00 | Rec:  94.74 || Ex/s:  12.44\n",
      "\n",
      "---------------------\n",
      "\n",
      "===>  TRAIN Epoch 19\n"
     ]
    },
    {
     "name": "stderr",
     "output_type": "stream",
     "text": [
      "0% [██████] 100% | ETA: 00:00:00\n",
      "Total time elapsed: 00:03:05\n"
     ]
    },
    {
     "name": "stdout",
     "output_type": "stream",
     "text": [
      "Finished Epoch 19 || Run Time:  220.8 | Load Time:    0.4 || F1: 100.00 | Prec: 100.00 | Rec: 100.00 || Ex/s:   2.36\n",
      "\n",
      "===>  EVAL Epoch 19\n",
      "Finished Epoch 19 || Run Time:    4.6 | Load Time:    0.0 || F1:  92.31 | Prec:  90.00 | Rec:  94.74 || Ex/s:  10.74\n",
      "\n",
      "---------------------\n",
      "\n",
      "===>  TRAIN Epoch 20\n"
     ]
    },
    {
     "name": "stderr",
     "output_type": "stream",
     "text": [
      "0% [██████] 100% | ETA: 00:00:00\n",
      "Total time elapsed: 00:03:10\n"
     ]
    },
    {
     "name": "stdout",
     "output_type": "stream",
     "text": [
      "Finished Epoch 20 || Run Time:  226.7 | Load Time:    0.4 || F1: 100.00 | Prec: 100.00 | Rec: 100.00 || Ex/s:   2.30\n",
      "\n",
      "===>  EVAL Epoch 20\n",
      "Finished Epoch 20 || Run Time:    5.0 | Load Time:    0.0 || F1:  92.31 | Prec:  90.00 | Rec:  94.74 || Ex/s:  10.02\n",
      "\n",
      "---------------------\n",
      "\n",
      "===>  TRAIN Epoch 21\n"
     ]
    },
    {
     "name": "stderr",
     "output_type": "stream",
     "text": [
      "0% [██████] 100% | ETA: 00:00:00\n",
      "Total time elapsed: 00:03:13\n"
     ]
    },
    {
     "name": "stdout",
     "output_type": "stream",
     "text": [
      "Finished Epoch 21 || Run Time:  227.6 | Load Time:    0.4 || F1: 100.00 | Prec: 100.00 | Rec: 100.00 || Ex/s:   2.29\n",
      "\n",
      "===>  EVAL Epoch 21\n",
      "Finished Epoch 21 || Run Time:    4.0 | Load Time:    0.0 || F1:  92.31 | Prec:  90.00 | Rec:  94.74 || Ex/s:  12.29\n",
      "\n",
      "---------------------\n",
      "\n",
      "===>  TRAIN Epoch 22\n"
     ]
    },
    {
     "name": "stderr",
     "output_type": "stream",
     "text": [
      "0% [██████] 100% | ETA: 00:00:00\n",
      "Total time elapsed: 00:03:09\n"
     ]
    },
    {
     "name": "stdout",
     "output_type": "stream",
     "text": [
      "Finished Epoch 22 || Run Time:  221.8 | Load Time:    0.4 || F1: 100.00 | Prec: 100.00 | Rec: 100.00 || Ex/s:   2.35\n",
      "\n",
      "===>  EVAL Epoch 22\n",
      "Finished Epoch 22 || Run Time:    4.0 | Load Time:    0.0 || F1:  92.31 | Prec:  90.00 | Rec:  94.74 || Ex/s:  12.54\n",
      "\n",
      "---------------------\n",
      "\n",
      "===>  TRAIN Epoch 23\n"
     ]
    },
    {
     "name": "stderr",
     "output_type": "stream",
     "text": [
      "0% [██████] 100% | ETA: 00:00:00\n",
      "Total time elapsed: 00:03:05\n"
     ]
    },
    {
     "name": "stdout",
     "output_type": "stream",
     "text": [
      "Finished Epoch 23 || Run Time:  218.1 | Load Time:    0.4 || F1: 100.00 | Prec: 100.00 | Rec: 100.00 || Ex/s:   2.39\n",
      "\n",
      "===>  EVAL Epoch 23\n",
      "Finished Epoch 23 || Run Time:    4.0 | Load Time:    0.0 || F1:  92.31 | Prec:  90.00 | Rec:  94.74 || Ex/s:  12.36\n",
      "\n",
      "---------------------\n",
      "\n",
      "===>  TRAIN Epoch 24\n"
     ]
    },
    {
     "name": "stderr",
     "output_type": "stream",
     "text": [
      "0% [██████] 100% | ETA: 00:00:00\n",
      "Total time elapsed: 00:03:05\n"
     ]
    },
    {
     "name": "stdout",
     "output_type": "stream",
     "text": [
      "Finished Epoch 24 || Run Time:  219.0 | Load Time:    0.4 || F1: 100.00 | Prec: 100.00 | Rec: 100.00 || Ex/s:   2.38\n",
      "\n",
      "===>  EVAL Epoch 24\n",
      "Finished Epoch 24 || Run Time:    4.0 | Load Time:    0.0 || F1:  92.31 | Prec:  90.00 | Rec:  94.74 || Ex/s:  12.31\n",
      "\n",
      "---------------------\n",
      "\n",
      "===>  TRAIN Epoch 25\n"
     ]
    },
    {
     "name": "stderr",
     "output_type": "stream",
     "text": [
      "0% [██████] 100% | ETA: 00:00:00\n",
      "Total time elapsed: 00:03:11\n"
     ]
    },
    {
     "name": "stdout",
     "output_type": "stream",
     "text": [
      "Finished Epoch 25 || Run Time:  224.9 | Load Time:    0.4 || F1: 100.00 | Prec: 100.00 | Rec: 100.00 || Ex/s:   2.32\n",
      "\n",
      "===>  EVAL Epoch 25\n",
      "Finished Epoch 25 || Run Time:    4.0 | Load Time:    0.0 || F1:  92.31 | Prec:  90.00 | Rec:  94.74 || Ex/s:  12.27\n",
      "\n",
      "---------------------\n",
      "\n",
      "Loading best model...\n",
      "Training done.\n"
     ]
    },
    {
     "data": {
      "text/plain": [
       "92.3076923076923"
      ]
     },
     "execution_count": 3,
     "metadata": {},
     "output_type": "execute_result"
    }
   ],
   "source": [
    "model.run_train(train, validation, epochs=25, batch_size=16, best_save_path='best_model_3-layer-residual-relu.pth')"
   ]
  },
  {
   "cell_type": "code",
   "execution_count": 4,
   "metadata": {},
   "outputs": [
    {
     "name": "stdout",
     "output_type": "stream",
     "text": [
      "===>  EVAL Epoch 13\n",
      "Finished Epoch 13 || Run Time:   12.5 | Load Time:    0.1 || F1:  90.32 | Prec:  87.50 | Rec:  93.33 || Ex/s:   3.98\n",
      "\n"
     ]
    },
    {
     "data": {
      "text/plain": [
       "90.3225806451613"
      ]
     },
     "execution_count": 4,
     "metadata": {},
     "output_type": "execute_result"
    }
   ],
   "source": [
    "model.run_eval(test)"
   ]
  },
  {
   "cell_type": "code",
   "execution_count": null,
   "metadata": {},
   "outputs": [],
   "source": []
  },
  {
   "cell_type": "code",
   "execution_count": null,
   "metadata": {},
   "outputs": [],
   "source": []
  },
  {
   "cell_type": "code",
   "execution_count": null,
   "metadata": {},
   "outputs": [],
   "source": []
  },
  {
   "cell_type": "code",
   "execution_count": null,
   "metadata": {},
   "outputs": [],
   "source": []
  },
  {
   "cell_type": "code",
   "execution_count": null,
   "metadata": {},
   "outputs": [],
   "source": []
  },
  {
   "cell_type": "code",
   "execution_count": null,
   "metadata": {},
   "outputs": [],
   "source": []
  },
  {
   "cell_type": "code",
   "execution_count": null,
   "metadata": {},
   "outputs": [],
   "source": []
  },
  {
   "cell_type": "code",
   "execution_count": null,
   "metadata": {},
   "outputs": [],
   "source": []
  },
  {
   "cell_type": "code",
   "execution_count": null,
   "metadata": {},
   "outputs": [],
   "source": []
  },
  {
   "cell_type": "code",
   "execution_count": null,
   "metadata": {},
   "outputs": [],
   "source": []
  },
  {
   "cell_type": "code",
   "execution_count": null,
   "metadata": {},
   "outputs": [],
   "source": []
  },
  {
   "cell_type": "code",
   "execution_count": null,
   "metadata": {},
   "outputs": [],
   "source": []
  },
  {
   "cell_type": "code",
   "execution_count": null,
   "metadata": {},
   "outputs": [],
   "source": []
  },
  {
   "cell_type": "code",
   "execution_count": null,
   "metadata": {},
   "outputs": [],
   "source": []
  },
  {
   "cell_type": "code",
   "execution_count": null,
   "metadata": {},
   "outputs": [],
   "source": []
  },
  {
   "cell_type": "code",
   "execution_count": null,
   "metadata": {},
   "outputs": [],
   "source": []
  },
  {
   "cell_type": "code",
   "execution_count": null,
   "metadata": {},
   "outputs": [],
   "source": []
  }
 ],
 "metadata": {
  "kernelspec": {
   "display_name": "Python 3",
   "language": "python",
   "name": "python3"
  },
  "language_info": {
   "codemirror_mode": {
    "name": "ipython",
    "version": 3
   },
   "file_extension": ".py",
   "mimetype": "text/x-python",
   "name": "python",
   "nbconvert_exporter": "python",
   "pygments_lexer": "ipython3",
   "version": "3.6.6"
  }
 },
 "nbformat": 4,
 "nbformat_minor": 2
}
